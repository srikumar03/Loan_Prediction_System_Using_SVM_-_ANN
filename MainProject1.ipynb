{
  "nbformat": 4,
  "nbformat_minor": 0,
  "metadata": {
    "colab": {
      "provenance": [],
      "include_colab_link": true
    },
    "kernelspec": {
      "name": "python3",
      "display_name": "Python 3"
    },
    "language_info": {
      "name": "python"
    }
  },
  "cells": [
    {
      "cell_type": "markdown",
      "metadata": {
        "id": "view-in-github",
        "colab_type": "text"
      },
      "source": [
        "<a href=\"https://colab.research.google.com/github/srikumar03/Loan_Prediction_System_Using_SVM_-_ANN/blob/main/MainProject1.ipynb\" target=\"_parent\"><img src=\"https://colab.research.google.com/assets/colab-badge.svg\" alt=\"Open In Colab\"/></a>"
      ]
    },
    {
      "cell_type": "code",
      "execution_count": null,
      "metadata": {
        "id": "OOLn4LmXqOxZ"
      },
      "outputs": [],
      "source": [
        "import pandas as pd\n",
        "import numpy as np"
      ]
    },
    {
      "cell_type": "code",
      "source": [
        "data=pd.read_csv(\"/content/train (1).csv\")"
      ],
      "metadata": {
        "id": "izaku5rQqbpQ"
      },
      "execution_count": null,
      "outputs": []
    },
    {
      "cell_type": "code",
      "source": [
        "print(data.shape)"
      ],
      "metadata": {
        "colab": {
          "base_uri": "https://localhost:8080/"
        },
        "id": "fjqrsPuzqgbf",
        "outputId": "a4fc229b-1dc6-4336-c665-ff72f71620a4"
      },
      "execution_count": null,
      "outputs": [
        {
          "output_type": "stream",
          "name": "stdout",
          "text": [
            "(614, 13)\n"
          ]
        }
      ]
    },
    {
      "cell_type": "code",
      "source": [
        "print(data.columns)"
      ],
      "metadata": {
        "colab": {
          "base_uri": "https://localhost:8080/"
        },
        "id": "ncxwGa_qqkHm",
        "outputId": "8fd74526-9896-46f2-9138-06f16d867f6d"
      },
      "execution_count": null,
      "outputs": [
        {
          "output_type": "stream",
          "name": "stdout",
          "text": [
            "Index(['Loan_ID', 'Gender', 'Married', 'Dependents', 'Education',\n",
            "       'Self_Employed', 'ApplicantIncome', 'CoapplicantIncome', 'LoanAmount',\n",
            "       'Loan_Amount_Term', 'Credit_History', 'Property_Area', 'Loan_Status'],\n",
            "      dtype='object')\n"
          ]
        }
      ]
    },
    {
      "cell_type": "code",
      "source": [
        "print(data.head())"
      ],
      "metadata": {
        "colab": {
          "base_uri": "https://localhost:8080/"
        },
        "id": "KGi7NG_Dqo_a",
        "outputId": "9a098b67-3db3-490b-faa9-3f4cdf6880ee"
      },
      "execution_count": null,
      "outputs": [
        {
          "output_type": "stream",
          "name": "stdout",
          "text": [
            "    Loan_ID Gender Married Dependents     Education Self_Employed  \\\n",
            "0  LP001002   Male      No          0      Graduate            No   \n",
            "1  LP001003   Male     Yes          1      Graduate            No   \n",
            "2  LP001005   Male     Yes          0      Graduate           Yes   \n",
            "3  LP001006   Male     Yes          0  Not Graduate            No   \n",
            "4  LP001008   Male      No          0      Graduate            No   \n",
            "\n",
            "   ApplicantIncome  CoapplicantIncome  LoanAmount  Loan_Amount_Term  \\\n",
            "0             5849                0.0         NaN             360.0   \n",
            "1             4583             1508.0       128.0             360.0   \n",
            "2             3000                0.0        66.0             360.0   \n",
            "3             2583             2358.0       120.0             360.0   \n",
            "4             6000                0.0       141.0             360.0   \n",
            "\n",
            "   Credit_History Property_Area Loan_Status  \n",
            "0             1.0         Urban           Y  \n",
            "1             1.0         Rural           Y  \n",
            "2             1.0         Urban           Y  \n",
            "3             1.0         Urban           Y  \n",
            "4             1.0         Urban           Y  \n"
          ]
        }
      ]
    },
    {
      "cell_type": "code",
      "source": [
        "print(data.describe())"
      ],
      "metadata": {
        "colab": {
          "base_uri": "https://localhost:8080/"
        },
        "id": "1g5uTqDAqufc",
        "outputId": "425ed8e3-9b7c-4409-aae5-4121b44d7fa7"
      },
      "execution_count": null,
      "outputs": [
        {
          "output_type": "stream",
          "name": "stdout",
          "text": [
            "       ApplicantIncome  CoapplicantIncome  LoanAmount  Loan_Amount_Term  \\\n",
            "count       614.000000         614.000000  592.000000         600.00000   \n",
            "mean       5403.459283        1621.245798  146.412162         342.00000   \n",
            "std        6109.041673        2926.248369   85.587325          65.12041   \n",
            "min         150.000000           0.000000    9.000000          12.00000   \n",
            "25%        2877.500000           0.000000  100.000000         360.00000   \n",
            "50%        3812.500000        1188.500000  128.000000         360.00000   \n",
            "75%        5795.000000        2297.250000  168.000000         360.00000   \n",
            "max       81000.000000       41667.000000  700.000000         480.00000   \n",
            "\n",
            "       Credit_History  \n",
            "count      564.000000  \n",
            "mean         0.842199  \n",
            "std          0.364878  \n",
            "min          0.000000  \n",
            "25%          1.000000  \n",
            "50%          1.000000  \n",
            "75%          1.000000  \n",
            "max          1.000000  \n"
          ]
        }
      ]
    },
    {
      "cell_type": "code",
      "source": [
        "print(data.mean())"
      ],
      "metadata": {
        "colab": {
          "base_uri": "https://localhost:8080/"
        },
        "id": "HXuiDuyaqw8H",
        "outputId": "47974252-6aec-438f-9c19-a5ffcaee3529"
      },
      "execution_count": null,
      "outputs": [
        {
          "output_type": "stream",
          "name": "stdout",
          "text": [
            "ApplicantIncome      5403.459283\n",
            "CoapplicantIncome    1621.245798\n",
            "LoanAmount            146.412162\n",
            "Loan_Amount_Term      342.000000\n",
            "Credit_History          0.842199\n",
            "dtype: float64\n"
          ]
        },
        {
          "output_type": "stream",
          "name": "stderr",
          "text": [
            "<ipython-input-7-333c16b2968c>:1: FutureWarning: The default value of numeric_only in DataFrame.mean is deprecated. In a future version, it will default to False. In addition, specifying 'numeric_only=None' is deprecated. Select only valid columns or specify the value of numeric_only to silence this warning.\n",
            "  print(data.mean())\n"
          ]
        }
      ]
    },
    {
      "cell_type": "code",
      "source": [
        "print(data.median())"
      ],
      "metadata": {
        "colab": {
          "base_uri": "https://localhost:8080/"
        },
        "id": "sabBzRT3q1O0",
        "outputId": "45f7adf9-b2da-47c1-9733-b054ce128e44"
      },
      "execution_count": null,
      "outputs": [
        {
          "output_type": "stream",
          "name": "stdout",
          "text": [
            "ApplicantIncome      3812.5\n",
            "CoapplicantIncome    1188.5\n",
            "LoanAmount            128.0\n",
            "Loan_Amount_Term      360.0\n",
            "Credit_History          1.0\n",
            "dtype: float64\n"
          ]
        },
        {
          "output_type": "stream",
          "name": "stderr",
          "text": [
            "<ipython-input-8-20599fdb1a86>:1: FutureWarning: The default value of numeric_only in DataFrame.median is deprecated. In a future version, it will default to False. In addition, specifying 'numeric_only=None' is deprecated. Select only valid columns or specify the value of numeric_only to silence this warning.\n",
            "  print(data.median())\n"
          ]
        }
      ]
    },
    {
      "cell_type": "code",
      "source": [
        "print(data.max())"
      ],
      "metadata": {
        "colab": {
          "base_uri": "https://localhost:8080/"
        },
        "id": "Y0pj9x_Lq43Z",
        "outputId": "bd1c0b8b-576e-4e20-a6d5-a0bcd00fff8e"
      },
      "execution_count": null,
      "outputs": [
        {
          "output_type": "stream",
          "name": "stdout",
          "text": [
            "Loan_ID                  LP002990\n",
            "Education            Not Graduate\n",
            "ApplicantIncome             81000\n",
            "CoapplicantIncome         41667.0\n",
            "LoanAmount                  700.0\n",
            "Loan_Amount_Term            480.0\n",
            "Credit_History                1.0\n",
            "Property_Area               Urban\n",
            "Loan_Status                     Y\n",
            "dtype: object\n"
          ]
        },
        {
          "output_type": "stream",
          "name": "stderr",
          "text": [
            "<ipython-input-9-ec783cd347b8>:1: FutureWarning: The default value of numeric_only in DataFrame.max is deprecated. In a future version, it will default to False. In addition, specifying 'numeric_only=None' is deprecated. Select only valid columns or specify the value of numeric_only to silence this warning.\n",
            "  print(data.max())\n"
          ]
        }
      ]
    },
    {
      "cell_type": "code",
      "source": [
        "print(data.min())"
      ],
      "metadata": {
        "colab": {
          "base_uri": "https://localhost:8080/"
        },
        "id": "9pN3n4uXq9lt",
        "outputId": "69be8dcc-1977-4c4e-9e42-7f3da31747f8"
      },
      "execution_count": null,
      "outputs": [
        {
          "output_type": "stream",
          "name": "stdout",
          "text": [
            "Loan_ID              LP001002\n",
            "Education            Graduate\n",
            "ApplicantIncome           150\n",
            "CoapplicantIncome         0.0\n",
            "LoanAmount                9.0\n",
            "Loan_Amount_Term         12.0\n",
            "Credit_History            0.0\n",
            "Property_Area           Rural\n",
            "Loan_Status                 N\n",
            "dtype: object\n"
          ]
        },
        {
          "output_type": "stream",
          "name": "stderr",
          "text": [
            "<ipython-input-10-b0b7e999f9e3>:1: FutureWarning: The default value of numeric_only in DataFrame.min is deprecated. In a future version, it will default to False. In addition, specifying 'numeric_only=None' is deprecated. Select only valid columns or specify the value of numeric_only to silence this warning.\n",
            "  print(data.min())\n"
          ]
        }
      ]
    },
    {
      "cell_type": "code",
      "source": [
        "print(data.count())\n",
        "print(\"\\n\\n\\n\")\n",
        "print(data.sum())"
      ],
      "metadata": {
        "colab": {
          "base_uri": "https://localhost:8080/"
        },
        "id": "wB4KmLRfrDDa",
        "outputId": "9c969ee3-a169-402c-99b0-f81c8d188d36"
      },
      "execution_count": null,
      "outputs": [
        {
          "output_type": "stream",
          "name": "stdout",
          "text": [
            "Loan_ID              614\n",
            "Gender               601\n",
            "Married              611\n",
            "Dependents           599\n",
            "Education            614\n",
            "Self_Employed        582\n",
            "ApplicantIncome      614\n",
            "CoapplicantIncome    614\n",
            "LoanAmount           592\n",
            "Loan_Amount_Term     600\n",
            "Credit_History       564\n",
            "Property_Area        614\n",
            "Loan_Status          614\n",
            "dtype: int64\n",
            "\n",
            "\n",
            "\n",
            "\n",
            "Loan_ID              LP001002LP001003LP001005LP001006LP001008LP0010...\n",
            "Education            GraduateGraduateGraduateNot GraduateGraduateGr...\n",
            "ApplicantIncome                                                3317724\n",
            "CoapplicantIncome                                        995444.919989\n",
            "LoanAmount                                                     86676.0\n",
            "Loan_Amount_Term                                              205200.0\n",
            "Credit_History                                                   475.0\n",
            "Property_Area        UrbanRuralUrbanUrbanUrbanUrbanUrbanSemiurbanUr...\n",
            "Loan_Status          YYYYYYYNYNYYYNYYYNNYNYNNNYYYNYNNNYNYNYYYNYYYYY...\n",
            "dtype: object\n"
          ]
        },
        {
          "output_type": "stream",
          "name": "stderr",
          "text": [
            "<ipython-input-11-c784ac766127>:3: FutureWarning: The default value of numeric_only in DataFrame.sum is deprecated. In a future version, it will default to False. In addition, specifying 'numeric_only=None' is deprecated. Select only valid columns or specify the value of numeric_only to silence this warning.\n",
            "  print(data.sum())\n"
          ]
        }
      ]
    },
    {
      "cell_type": "code",
      "source": [
        "print(data.var())\n",
        "print(\"\\n\\n\\n\")\n",
        "print(data.std())"
      ],
      "metadata": {
        "colab": {
          "base_uri": "https://localhost:8080/"
        },
        "id": "tJVsA8DnrEoq",
        "outputId": "d29c3ccc-62da-4982-8eee-5f993e4d0c2f"
      },
      "execution_count": null,
      "outputs": [
        {
          "output_type": "stream",
          "name": "stdout",
          "text": [
            "ApplicantIncome      3.732039e+07\n",
            "CoapplicantIncome    8.562930e+06\n",
            "LoanAmount           7.325190e+03\n",
            "Loan_Amount_Term     4.240668e+03\n",
            "Credit_History       1.331362e-01\n",
            "dtype: float64\n",
            "\n",
            "\n",
            "\n",
            "\n",
            "ApplicantIncome      6109.041673\n",
            "CoapplicantIncome    2926.248369\n",
            "LoanAmount             85.587325\n",
            "Loan_Amount_Term       65.120410\n",
            "Credit_History          0.364878\n",
            "dtype: float64\n"
          ]
        },
        {
          "output_type": "stream",
          "name": "stderr",
          "text": [
            "<ipython-input-12-aafe331d4d1d>:1: FutureWarning: The default value of numeric_only in DataFrame.var is deprecated. In a future version, it will default to False. In addition, specifying 'numeric_only=None' is deprecated. Select only valid columns or specify the value of numeric_only to silence this warning.\n",
            "  print(data.var())\n",
            "<ipython-input-12-aafe331d4d1d>:3: FutureWarning: The default value of numeric_only in DataFrame.std is deprecated. In a future version, it will default to False. In addition, specifying 'numeric_only=None' is deprecated. Select only valid columns or specify the value of numeric_only to silence this warning.\n",
            "  print(data.std())\n"
          ]
        }
      ]
    },
    {
      "cell_type": "code",
      "source": [
        "data.isnull().sum()"
      ],
      "metadata": {
        "colab": {
          "base_uri": "https://localhost:8080/"
        },
        "id": "lu4j1KLcrPBu",
        "outputId": "242c13ad-8275-4691-c47a-f8b2707ad33e"
      },
      "execution_count": null,
      "outputs": [
        {
          "output_type": "execute_result",
          "data": {
            "text/plain": [
              "Loan_ID               0\n",
              "Gender               13\n",
              "Married               3\n",
              "Dependents           15\n",
              "Education             0\n",
              "Self_Employed        32\n",
              "ApplicantIncome       0\n",
              "CoapplicantIncome     0\n",
              "LoanAmount           22\n",
              "Loan_Amount_Term     14\n",
              "Credit_History       50\n",
              "Property_Area         0\n",
              "Loan_Status           0\n",
              "dtype: int64"
            ]
          },
          "metadata": {},
          "execution_count": 13
        }
      ]
    },
    {
      "cell_type": "code",
      "source": [
        "data=data.dropna()\n",
        "data.isnull().sum()"
      ],
      "metadata": {
        "colab": {
          "base_uri": "https://localhost:8080/"
        },
        "id": "DYJaWurjrSe1",
        "outputId": "d9711ec1-921c-4351-8beb-87afd50a38d0"
      },
      "execution_count": null,
      "outputs": [
        {
          "output_type": "execute_result",
          "data": {
            "text/plain": [
              "Loan_ID              0\n",
              "Gender               0\n",
              "Married              0\n",
              "Dependents           0\n",
              "Education            0\n",
              "Self_Employed        0\n",
              "ApplicantIncome      0\n",
              "CoapplicantIncome    0\n",
              "LoanAmount           0\n",
              "Loan_Amount_Term     0\n",
              "Credit_History       0\n",
              "Property_Area        0\n",
              "Loan_Status          0\n",
              "dtype: int64"
            ]
          },
          "metadata": {},
          "execution_count": 14
        }
      ]
    },
    {
      "cell_type": "code",
      "source": [
        "data.replace({'Married':{'No':0,'Yes':1},'Gender':{'Male':1,'Female':0},'Self_Employed':{'No':0,'Yes':1},\n",
        "              'Property_Area':{'Rural':0,'Semiurban':1,'Urban':2},'Education':{'Graduate':1,'Not Graduate':0}},inplace=True)"
      ],
      "metadata": {
        "id": "FnNgP8uXrWR0"
      },
      "execution_count": null,
      "outputs": []
    },
    {
      "cell_type": "code",
      "source": [
        "data=data.replace(to_replace=\"3+\",value=3)"
      ],
      "metadata": {
        "id": "N843JeIerYrt"
      },
      "execution_count": null,
      "outputs": []
    },
    {
      "cell_type": "code",
      "source": [
        "data.head()"
      ],
      "metadata": {
        "colab": {
          "base_uri": "https://localhost:8080/",
          "height": 270
        },
        "id": "kIR1fVMXra_D",
        "outputId": "6f4d4bbe-d990-4aab-b282-606759f41bac"
      },
      "execution_count": null,
      "outputs": [
        {
          "output_type": "execute_result",
          "data": {
            "text/plain": [
              "    Loan_ID  Gender  Married Dependents  Education  Self_Employed  \\\n",
              "1  LP001003       1        1          1          1              0   \n",
              "2  LP001005       1        1          0          1              1   \n",
              "3  LP001006       1        1          0          0              0   \n",
              "4  LP001008       1        0          0          1              0   \n",
              "5  LP001011       1        1          2          1              1   \n",
              "\n",
              "   ApplicantIncome  CoapplicantIncome  LoanAmount  Loan_Amount_Term  \\\n",
              "1             4583             1508.0       128.0             360.0   \n",
              "2             3000                0.0        66.0             360.0   \n",
              "3             2583             2358.0       120.0             360.0   \n",
              "4             6000                0.0       141.0             360.0   \n",
              "5             5417             4196.0       267.0             360.0   \n",
              "\n",
              "   Credit_History  Property_Area Loan_Status  \n",
              "1             1.0              0           Y  \n",
              "2             1.0              2           Y  \n",
              "3             1.0              2           Y  \n",
              "4             1.0              2           Y  \n",
              "5             1.0              2           Y  "
            ],
            "text/html": [
              "\n",
              "  <div id=\"df-5eefba50-b040-44d6-a9c3-ea71cbd45976\">\n",
              "    <div class=\"colab-df-container\">\n",
              "      <div>\n",
              "<style scoped>\n",
              "    .dataframe tbody tr th:only-of-type {\n",
              "        vertical-align: middle;\n",
              "    }\n",
              "\n",
              "    .dataframe tbody tr th {\n",
              "        vertical-align: top;\n",
              "    }\n",
              "\n",
              "    .dataframe thead th {\n",
              "        text-align: right;\n",
              "    }\n",
              "</style>\n",
              "<table border=\"1\" class=\"dataframe\">\n",
              "  <thead>\n",
              "    <tr style=\"text-align: right;\">\n",
              "      <th></th>\n",
              "      <th>Loan_ID</th>\n",
              "      <th>Gender</th>\n",
              "      <th>Married</th>\n",
              "      <th>Dependents</th>\n",
              "      <th>Education</th>\n",
              "      <th>Self_Employed</th>\n",
              "      <th>ApplicantIncome</th>\n",
              "      <th>CoapplicantIncome</th>\n",
              "      <th>LoanAmount</th>\n",
              "      <th>Loan_Amount_Term</th>\n",
              "      <th>Credit_History</th>\n",
              "      <th>Property_Area</th>\n",
              "      <th>Loan_Status</th>\n",
              "    </tr>\n",
              "  </thead>\n",
              "  <tbody>\n",
              "    <tr>\n",
              "      <th>1</th>\n",
              "      <td>LP001003</td>\n",
              "      <td>1</td>\n",
              "      <td>1</td>\n",
              "      <td>1</td>\n",
              "      <td>1</td>\n",
              "      <td>0</td>\n",
              "      <td>4583</td>\n",
              "      <td>1508.0</td>\n",
              "      <td>128.0</td>\n",
              "      <td>360.0</td>\n",
              "      <td>1.0</td>\n",
              "      <td>0</td>\n",
              "      <td>Y</td>\n",
              "    </tr>\n",
              "    <tr>\n",
              "      <th>2</th>\n",
              "      <td>LP001005</td>\n",
              "      <td>1</td>\n",
              "      <td>1</td>\n",
              "      <td>0</td>\n",
              "      <td>1</td>\n",
              "      <td>1</td>\n",
              "      <td>3000</td>\n",
              "      <td>0.0</td>\n",
              "      <td>66.0</td>\n",
              "      <td>360.0</td>\n",
              "      <td>1.0</td>\n",
              "      <td>2</td>\n",
              "      <td>Y</td>\n",
              "    </tr>\n",
              "    <tr>\n",
              "      <th>3</th>\n",
              "      <td>LP001006</td>\n",
              "      <td>1</td>\n",
              "      <td>1</td>\n",
              "      <td>0</td>\n",
              "      <td>0</td>\n",
              "      <td>0</td>\n",
              "      <td>2583</td>\n",
              "      <td>2358.0</td>\n",
              "      <td>120.0</td>\n",
              "      <td>360.0</td>\n",
              "      <td>1.0</td>\n",
              "      <td>2</td>\n",
              "      <td>Y</td>\n",
              "    </tr>\n",
              "    <tr>\n",
              "      <th>4</th>\n",
              "      <td>LP001008</td>\n",
              "      <td>1</td>\n",
              "      <td>0</td>\n",
              "      <td>0</td>\n",
              "      <td>1</td>\n",
              "      <td>0</td>\n",
              "      <td>6000</td>\n",
              "      <td>0.0</td>\n",
              "      <td>141.0</td>\n",
              "      <td>360.0</td>\n",
              "      <td>1.0</td>\n",
              "      <td>2</td>\n",
              "      <td>Y</td>\n",
              "    </tr>\n",
              "    <tr>\n",
              "      <th>5</th>\n",
              "      <td>LP001011</td>\n",
              "      <td>1</td>\n",
              "      <td>1</td>\n",
              "      <td>2</td>\n",
              "      <td>1</td>\n",
              "      <td>1</td>\n",
              "      <td>5417</td>\n",
              "      <td>4196.0</td>\n",
              "      <td>267.0</td>\n",
              "      <td>360.0</td>\n",
              "      <td>1.0</td>\n",
              "      <td>2</td>\n",
              "      <td>Y</td>\n",
              "    </tr>\n",
              "  </tbody>\n",
              "</table>\n",
              "</div>\n",
              "      <button class=\"colab-df-convert\" onclick=\"convertToInteractive('df-5eefba50-b040-44d6-a9c3-ea71cbd45976')\"\n",
              "              title=\"Convert this dataframe to an interactive table.\"\n",
              "              style=\"display:none;\">\n",
              "        \n",
              "  <svg xmlns=\"http://www.w3.org/2000/svg\" height=\"24px\"viewBox=\"0 0 24 24\"\n",
              "       width=\"24px\">\n",
              "    <path d=\"M0 0h24v24H0V0z\" fill=\"none\"/>\n",
              "    <path d=\"M18.56 5.44l.94 2.06.94-2.06 2.06-.94-2.06-.94-.94-2.06-.94 2.06-2.06.94zm-11 1L8.5 8.5l.94-2.06 2.06-.94-2.06-.94L8.5 2.5l-.94 2.06-2.06.94zm10 10l.94 2.06.94-2.06 2.06-.94-2.06-.94-.94-2.06-.94 2.06-2.06.94z\"/><path d=\"M17.41 7.96l-1.37-1.37c-.4-.4-.92-.59-1.43-.59-.52 0-1.04.2-1.43.59L10.3 9.45l-7.72 7.72c-.78.78-.78 2.05 0 2.83L4 21.41c.39.39.9.59 1.41.59.51 0 1.02-.2 1.41-.59l7.78-7.78 2.81-2.81c.8-.78.8-2.07 0-2.86zM5.41 20L4 18.59l7.72-7.72 1.47 1.35L5.41 20z\"/>\n",
              "  </svg>\n",
              "      </button>\n",
              "      \n",
              "  <style>\n",
              "    .colab-df-container {\n",
              "      display:flex;\n",
              "      flex-wrap:wrap;\n",
              "      gap: 12px;\n",
              "    }\n",
              "\n",
              "    .colab-df-convert {\n",
              "      background-color: #E8F0FE;\n",
              "      border: none;\n",
              "      border-radius: 50%;\n",
              "      cursor: pointer;\n",
              "      display: none;\n",
              "      fill: #1967D2;\n",
              "      height: 32px;\n",
              "      padding: 0 0 0 0;\n",
              "      width: 32px;\n",
              "    }\n",
              "\n",
              "    .colab-df-convert:hover {\n",
              "      background-color: #E2EBFA;\n",
              "      box-shadow: 0px 1px 2px rgba(60, 64, 67, 0.3), 0px 1px 3px 1px rgba(60, 64, 67, 0.15);\n",
              "      fill: #174EA6;\n",
              "    }\n",
              "\n",
              "    [theme=dark] .colab-df-convert {\n",
              "      background-color: #3B4455;\n",
              "      fill: #D2E3FC;\n",
              "    }\n",
              "\n",
              "    [theme=dark] .colab-df-convert:hover {\n",
              "      background-color: #434B5C;\n",
              "      box-shadow: 0px 1px 3px 1px rgba(0, 0, 0, 0.15);\n",
              "      filter: drop-shadow(0px 1px 2px rgba(0, 0, 0, 0.3));\n",
              "      fill: #FFFFFF;\n",
              "    }\n",
              "  </style>\n",
              "\n",
              "      <script>\n",
              "        const buttonEl =\n",
              "          document.querySelector('#df-5eefba50-b040-44d6-a9c3-ea71cbd45976 button.colab-df-convert');\n",
              "        buttonEl.style.display =\n",
              "          google.colab.kernel.accessAllowed ? 'block' : 'none';\n",
              "\n",
              "        async function convertToInteractive(key) {\n",
              "          const element = document.querySelector('#df-5eefba50-b040-44d6-a9c3-ea71cbd45976');\n",
              "          const dataTable =\n",
              "            await google.colab.kernel.invokeFunction('convertToInteractive',\n",
              "                                                     [key], {});\n",
              "          if (!dataTable) return;\n",
              "\n",
              "          const docLinkHtml = 'Like what you see? Visit the ' +\n",
              "            '<a target=\"_blank\" href=https://colab.research.google.com/notebooks/data_table.ipynb>data table notebook</a>'\n",
              "            + ' to learn more about interactive tables.';\n",
              "          element.innerHTML = '';\n",
              "          dataTable['output_type'] = 'display_data';\n",
              "          await google.colab.output.renderOutput(dataTable, element);\n",
              "          const docLink = document.createElement('div');\n",
              "          docLink.innerHTML = docLinkHtml;\n",
              "          element.appendChild(docLink);\n",
              "        }\n",
              "      </script>\n",
              "    </div>\n",
              "  </div>\n",
              "  "
            ]
          },
          "metadata": {},
          "execution_count": 17
        }
      ]
    },
    {
      "cell_type": "code",
      "source": [
        "data=data.drop('Loan_ID',axis=1)\n",
        "data.to_csv('modified_data.csv',index=False)"
      ],
      "metadata": {
        "id": "s4hoLhP_roKE"
      },
      "execution_count": null,
      "outputs": []
    },
    {
      "cell_type": "code",
      "source": [
        "data.head()"
      ],
      "metadata": {
        "colab": {
          "base_uri": "https://localhost:8080/",
          "height": 270
        },
        "id": "TWba6cMgt-S8",
        "outputId": "f5bb90ce-18b0-4e7b-fd97-a86ca66d2752"
      },
      "execution_count": null,
      "outputs": [
        {
          "output_type": "execute_result",
          "data": {
            "text/plain": [
              "   Gender  Married Dependents  Education  Self_Employed  ApplicantIncome  \\\n",
              "1       1        1          1          1              0             4583   \n",
              "2       1        1          0          1              1             3000   \n",
              "3       1        1          0          0              0             2583   \n",
              "4       1        0          0          1              0             6000   \n",
              "5       1        1          2          1              1             5417   \n",
              "\n",
              "   CoapplicantIncome  LoanAmount  Loan_Amount_Term  Credit_History  \\\n",
              "1             1508.0       128.0             360.0             1.0   \n",
              "2                0.0        66.0             360.0             1.0   \n",
              "3             2358.0       120.0             360.0             1.0   \n",
              "4                0.0       141.0             360.0             1.0   \n",
              "5             4196.0       267.0             360.0             1.0   \n",
              "\n",
              "   Property_Area Loan_Status  \n",
              "1              0           Y  \n",
              "2              2           Y  \n",
              "3              2           Y  \n",
              "4              2           Y  \n",
              "5              2           Y  "
            ],
            "text/html": [
              "\n",
              "  <div id=\"df-7c0f736b-9357-44da-a1e9-a3fb6787dd88\">\n",
              "    <div class=\"colab-df-container\">\n",
              "      <div>\n",
              "<style scoped>\n",
              "    .dataframe tbody tr th:only-of-type {\n",
              "        vertical-align: middle;\n",
              "    }\n",
              "\n",
              "    .dataframe tbody tr th {\n",
              "        vertical-align: top;\n",
              "    }\n",
              "\n",
              "    .dataframe thead th {\n",
              "        text-align: right;\n",
              "    }\n",
              "</style>\n",
              "<table border=\"1\" class=\"dataframe\">\n",
              "  <thead>\n",
              "    <tr style=\"text-align: right;\">\n",
              "      <th></th>\n",
              "      <th>Gender</th>\n",
              "      <th>Married</th>\n",
              "      <th>Dependents</th>\n",
              "      <th>Education</th>\n",
              "      <th>Self_Employed</th>\n",
              "      <th>ApplicantIncome</th>\n",
              "      <th>CoapplicantIncome</th>\n",
              "      <th>LoanAmount</th>\n",
              "      <th>Loan_Amount_Term</th>\n",
              "      <th>Credit_History</th>\n",
              "      <th>Property_Area</th>\n",
              "      <th>Loan_Status</th>\n",
              "    </tr>\n",
              "  </thead>\n",
              "  <tbody>\n",
              "    <tr>\n",
              "      <th>1</th>\n",
              "      <td>1</td>\n",
              "      <td>1</td>\n",
              "      <td>1</td>\n",
              "      <td>1</td>\n",
              "      <td>0</td>\n",
              "      <td>4583</td>\n",
              "      <td>1508.0</td>\n",
              "      <td>128.0</td>\n",
              "      <td>360.0</td>\n",
              "      <td>1.0</td>\n",
              "      <td>0</td>\n",
              "      <td>Y</td>\n",
              "    </tr>\n",
              "    <tr>\n",
              "      <th>2</th>\n",
              "      <td>1</td>\n",
              "      <td>1</td>\n",
              "      <td>0</td>\n",
              "      <td>1</td>\n",
              "      <td>1</td>\n",
              "      <td>3000</td>\n",
              "      <td>0.0</td>\n",
              "      <td>66.0</td>\n",
              "      <td>360.0</td>\n",
              "      <td>1.0</td>\n",
              "      <td>2</td>\n",
              "      <td>Y</td>\n",
              "    </tr>\n",
              "    <tr>\n",
              "      <th>3</th>\n",
              "      <td>1</td>\n",
              "      <td>1</td>\n",
              "      <td>0</td>\n",
              "      <td>0</td>\n",
              "      <td>0</td>\n",
              "      <td>2583</td>\n",
              "      <td>2358.0</td>\n",
              "      <td>120.0</td>\n",
              "      <td>360.0</td>\n",
              "      <td>1.0</td>\n",
              "      <td>2</td>\n",
              "      <td>Y</td>\n",
              "    </tr>\n",
              "    <tr>\n",
              "      <th>4</th>\n",
              "      <td>1</td>\n",
              "      <td>0</td>\n",
              "      <td>0</td>\n",
              "      <td>1</td>\n",
              "      <td>0</td>\n",
              "      <td>6000</td>\n",
              "      <td>0.0</td>\n",
              "      <td>141.0</td>\n",
              "      <td>360.0</td>\n",
              "      <td>1.0</td>\n",
              "      <td>2</td>\n",
              "      <td>Y</td>\n",
              "    </tr>\n",
              "    <tr>\n",
              "      <th>5</th>\n",
              "      <td>1</td>\n",
              "      <td>1</td>\n",
              "      <td>2</td>\n",
              "      <td>1</td>\n",
              "      <td>1</td>\n",
              "      <td>5417</td>\n",
              "      <td>4196.0</td>\n",
              "      <td>267.0</td>\n",
              "      <td>360.0</td>\n",
              "      <td>1.0</td>\n",
              "      <td>2</td>\n",
              "      <td>Y</td>\n",
              "    </tr>\n",
              "  </tbody>\n",
              "</table>\n",
              "</div>\n",
              "      <button class=\"colab-df-convert\" onclick=\"convertToInteractive('df-7c0f736b-9357-44da-a1e9-a3fb6787dd88')\"\n",
              "              title=\"Convert this dataframe to an interactive table.\"\n",
              "              style=\"display:none;\">\n",
              "        \n",
              "  <svg xmlns=\"http://www.w3.org/2000/svg\" height=\"24px\"viewBox=\"0 0 24 24\"\n",
              "       width=\"24px\">\n",
              "    <path d=\"M0 0h24v24H0V0z\" fill=\"none\"/>\n",
              "    <path d=\"M18.56 5.44l.94 2.06.94-2.06 2.06-.94-2.06-.94-.94-2.06-.94 2.06-2.06.94zm-11 1L8.5 8.5l.94-2.06 2.06-.94-2.06-.94L8.5 2.5l-.94 2.06-2.06.94zm10 10l.94 2.06.94-2.06 2.06-.94-2.06-.94-.94-2.06-.94 2.06-2.06.94z\"/><path d=\"M17.41 7.96l-1.37-1.37c-.4-.4-.92-.59-1.43-.59-.52 0-1.04.2-1.43.59L10.3 9.45l-7.72 7.72c-.78.78-.78 2.05 0 2.83L4 21.41c.39.39.9.59 1.41.59.51 0 1.02-.2 1.41-.59l7.78-7.78 2.81-2.81c.8-.78.8-2.07 0-2.86zM5.41 20L4 18.59l7.72-7.72 1.47 1.35L5.41 20z\"/>\n",
              "  </svg>\n",
              "      </button>\n",
              "      \n",
              "  <style>\n",
              "    .colab-df-container {\n",
              "      display:flex;\n",
              "      flex-wrap:wrap;\n",
              "      gap: 12px;\n",
              "    }\n",
              "\n",
              "    .colab-df-convert {\n",
              "      background-color: #E8F0FE;\n",
              "      border: none;\n",
              "      border-radius: 50%;\n",
              "      cursor: pointer;\n",
              "      display: none;\n",
              "      fill: #1967D2;\n",
              "      height: 32px;\n",
              "      padding: 0 0 0 0;\n",
              "      width: 32px;\n",
              "    }\n",
              "\n",
              "    .colab-df-convert:hover {\n",
              "      background-color: #E2EBFA;\n",
              "      box-shadow: 0px 1px 2px rgba(60, 64, 67, 0.3), 0px 1px 3px 1px rgba(60, 64, 67, 0.15);\n",
              "      fill: #174EA6;\n",
              "    }\n",
              "\n",
              "    [theme=dark] .colab-df-convert {\n",
              "      background-color: #3B4455;\n",
              "      fill: #D2E3FC;\n",
              "    }\n",
              "\n",
              "    [theme=dark] .colab-df-convert:hover {\n",
              "      background-color: #434B5C;\n",
              "      box-shadow: 0px 1px 3px 1px rgba(0, 0, 0, 0.15);\n",
              "      filter: drop-shadow(0px 1px 2px rgba(0, 0, 0, 0.3));\n",
              "      fill: #FFFFFF;\n",
              "    }\n",
              "  </style>\n",
              "\n",
              "      <script>\n",
              "        const buttonEl =\n",
              "          document.querySelector('#df-7c0f736b-9357-44da-a1e9-a3fb6787dd88 button.colab-df-convert');\n",
              "        buttonEl.style.display =\n",
              "          google.colab.kernel.accessAllowed ? 'block' : 'none';\n",
              "\n",
              "        async function convertToInteractive(key) {\n",
              "          const element = document.querySelector('#df-7c0f736b-9357-44da-a1e9-a3fb6787dd88');\n",
              "          const dataTable =\n",
              "            await google.colab.kernel.invokeFunction('convertToInteractive',\n",
              "                                                     [key], {});\n",
              "          if (!dataTable) return;\n",
              "\n",
              "          const docLinkHtml = 'Like what you see? Visit the ' +\n",
              "            '<a target=\"_blank\" href=https://colab.research.google.com/notebooks/data_table.ipynb>data table notebook</a>'\n",
              "            + ' to learn more about interactive tables.';\n",
              "          element.innerHTML = '';\n",
              "          dataTable['output_type'] = 'display_data';\n",
              "          await google.colab.output.renderOutput(dataTable, element);\n",
              "          const docLink = document.createElement('div');\n",
              "          docLink.innerHTML = docLinkHtml;\n",
              "          element.appendChild(docLink);\n",
              "        }\n",
              "      </script>\n",
              "    </div>\n",
              "  </div>\n",
              "  "
            ]
          },
          "metadata": {},
          "execution_count": 19
        }
      ]
    },
    {
      "cell_type": "code",
      "source": [
        "import seaborn as sns\n",
        "sns.countplot(x='Education',hue='Loan_Status',data=data)"
      ],
      "metadata": {
        "colab": {
          "base_uri": "https://localhost:8080/",
          "height": 466
        },
        "id": "D1KTb0EJr1cU",
        "outputId": "eac02abe-f891-4de6-a221-cf9311af20c2"
      },
      "execution_count": null,
      "outputs": [
        {
          "output_type": "execute_result",
          "data": {
            "text/plain": [
              "<Axes: xlabel='Education', ylabel='count'>"
            ]
          },
          "metadata": {},
          "execution_count": 20
        },
        {
          "output_type": "display_data",
          "data": {
            "text/plain": [
              "<Figure size 640x480 with 1 Axes>"
            ],
            "image/png": "[encoded data removed]"
          },
          "metadata": {}
        }
      ]
    },
    {
      "cell_type": "markdown",
      "source": [
        "ARTIFICIAL NEURAL NETWORK"
      ],
      "metadata": {
        "id": "YGzgbn8HoPjH"
      }
    },
    {
      "cell_type": "code",
      "source": [
        "x = data.iloc[:, 0:11]\n",
        "print(x)\n",
        "y = data.iloc[:, 11:]\n",
        "print(y)"
      ],
      "metadata": {
        "colab": {
          "base_uri": "https://localhost:8080/"
        },
        "id": "HiGSmbi6rHmR",
        "outputId": "8e997b20-2a64-4a96-a085-a24eeae449c4"
      },
      "execution_count": null,
      "outputs": [
        {
          "output_type": "stream",
          "name": "stdout",
          "text": [
            "     Gender  Married Dependents  Education  Self_Employed  ApplicantIncome  \\\n",
            "1         1        1          1          1              0             4583   \n",
            "2         1        1          0          1              1             3000   \n",
            "3         1        1          0          0              0             2583   \n",
            "4         1        0          0          1              0             6000   \n",
            "5         1        1          2          1              1             5417   \n",
            "..      ...      ...        ...        ...            ...              ...   \n",
            "609       0        0          0          1              0             2900   \n",
            "610       1        1          3          1              0             4106   \n",
            "611       1        1          1          1              0             8072   \n",
            "612       1        1          2          1              0             7583   \n",
            "613       0        0          0          1              1             4583   \n",
            "\n",
            "     CoapplicantIncome  LoanAmount  Loan_Amount_Term  Credit_History  \\\n",
            "1               1508.0       128.0             360.0             1.0   \n",
            "2                  0.0        66.0             360.0             1.0   \n",
            "3               2358.0       120.0             360.0             1.0   \n",
            "4                  0.0       141.0             360.0             1.0   \n",
            "5               4196.0       267.0             360.0             1.0   \n",
            "..                 ...         ...               ...             ...   \n",
            "609                0.0        71.0             360.0             1.0   \n",
            "610                0.0        40.0             180.0             1.0   \n",
            "611              240.0       253.0             360.0             1.0   \n",
            "612                0.0       187.0             360.0             1.0   \n",
            "613                0.0       133.0             360.0             0.0   \n",
            "\n",
            "     Property_Area  \n",
            "1                0  \n",
            "2                2  \n",
            "3                2  \n",
            "4                2  \n",
            "5                2  \n",
            "..             ...  \n",
            "609              0  \n",
            "610              0  \n",
            "611              2  \n",
            "612              2  \n",
            "613              1  \n",
            "\n",
            "[480 rows x 11 columns]\n",
            "    Loan_Status\n",
            "1             Y\n",
            "2             Y\n",
            "3             Y\n",
            "4             Y\n",
            "5             Y\n",
            "..          ...\n",
            "609           Y\n",
            "610           Y\n",
            "611           Y\n",
            "612           Y\n",
            "613           N\n",
            "\n",
            "[480 rows x 1 columns]\n"
          ]
        }
      ]
    },
    {
      "cell_type": "code",
      "source": [
        "from sklearn.preprocessing import OneHotEncoder\n",
        "ohe=OneHotEncoder()\n",
        "y=ohe.fit_transform(y).toarray()\n",
        "print(y.shape)"
      ],
      "metadata": {
        "colab": {
          "base_uri": "https://localhost:8080/"
        },
        "id": "zpQVSUJvwnjW",
        "outputId": "df3f8054-b3e7-42dd-c0e9-90b0064e31ef"
      },
      "execution_count": null,
      "outputs": [
        {
          "output_type": "stream",
          "name": "stdout",
          "text": [
            "(480, 2)\n"
          ]
        }
      ]
    },
    {
      "cell_type": "code",
      "source": [
        "from keras.models import Sequential\n",
        "from keras.layers import Dense\n",
        "\n",
        "model=Sequential()\n",
        "model.add(Dense(48,input_dim=11,activation=\"relu\"))\n",
        "model.add(Dense(96,activation=\"relu\"))\n",
        "model.add(Dense(2,activation=\"softmax\"))\n",
        "model.compile(loss=\"categorical_crossentropy\",optimizer=\"adam\",metrics=[\"accuracy\"])\n",
        "model.summary()"
      ],
      "metadata": {
        "colab": {
          "base_uri": "https://localhost:8080/"
        },
        "id": "4xipmMWgxAaD",
        "outputId": "bedc3b63-0bcc-49a5-ec75-beb855bc29f7"
      },
      "execution_count": null,
      "outputs": [
        {
          "output_type": "stream",
          "name": "stdout",
          "text": [
            "Model: \"sequential\"\n",
            "_________________________________________________________________\n",
            " Layer (type)                Output Shape              Param #   \n",
            "=================================================================\n",
            " dense (Dense)               (None, 48)                576       \n",
            "                                                                 \n",
            " dense_1 (Dense)             (None, 96)                4704      \n",
            "                                                                 \n",
            " dense_2 (Dense)             (None, 2)                 194       \n",
            "                                                                 \n",
            "=================================================================\n",
            "Total params: 5,474\n",
            "Trainable params: 5,474\n",
            "Non-trainable params: 0\n",
            "_________________________________________________________________\n"
          ]
        }
      ]
    },
    {
      "cell_type": "code",
      "source": [
        "from sklearn.model_selection import train_test_split\n",
        "x_train,x_test,y_train,y_test=train_test_split(x,y,test_size=0.2,random_state=0)\n",
        "print(x_train.shape,y_train.shape)"
      ],
      "metadata": {
        "colab": {
          "base_uri": "https://localhost:8080/"
        },
        "id": "kqfP07o0xLqF",
        "outputId": "339325c3-fca8-49ca-8de7-939b408ea09b"
      },
      "execution_count": null,
      "outputs": [
        {
          "output_type": "stream",
          "name": "stdout",
          "text": [
            "(384, 11) (384, 2)\n"
          ]
        }
      ]
    },
    {
      "cell_type": "code",
      "source": [
        "x_train = np.asarray(x_train).astype(np.float32)\n",
        "y_train = np.asarray(y_train).astype(np.float32)\n",
        "x_test = np.asarray(x_train).astype(np.float32)\n",
        "y_test = np.asarray(y_train).astype(np.float32)"
      ],
      "metadata": {
        "id": "67LTSaZh9pJ3"
      },
      "execution_count": null,
      "outputs": []
    },
    {
      "cell_type": "code",
      "source": [
        "model.fit(x_train,y_train,epochs=100)"
      ],
      "metadata": {
        "colab": {
          "base_uri": "https://localhost:8080/"
        },
        "id": "zh1Z0l3Mxhdz",
        "outputId": "9498d6e4-4736-4b20-f0a7-55eb72a08ec0"
      },
      "execution_count": null,
      "outputs": [
        {
          "output_type": "stream",
          "name": "stdout",
          "text": [
            "Epoch 1/100\n",
            "12/12 [==============================] - 0s 3ms/step - loss: 7.0000 - accuracy: 0.6432\n",
            "Epoch 2/100\n",
            "12/12 [==============================] - 0s 3ms/step - loss: 8.6840 - accuracy: 0.6094\n",
            "Epoch 3/100\n",
            "12/12 [==============================] - 0s 3ms/step - loss: 13.8549 - accuracy: 0.6172\n",
            "Epoch 4/100\n",
            "12/12 [==============================] - 0s 3ms/step - loss: 8.2683 - accuracy: 0.6276\n",
            "Epoch 5/100\n",
            "12/12 [==============================] - 0s 4ms/step - loss: 7.9410 - accuracy: 0.6224\n",
            "Epoch 6/100\n",
            "12/12 [==============================] - 0s 3ms/step - loss: 8.2852 - accuracy: 0.5833\n",
            "Epoch 7/100\n",
            "12/12 [==============================] - 0s 3ms/step - loss: 6.8773 - accuracy: 0.6536\n",
            "Epoch 8/100\n",
            "12/12 [==============================] - 0s 3ms/step - loss: 10.7717 - accuracy: 0.6224\n",
            "Epoch 9/100\n",
            "12/12 [==============================] - 0s 3ms/step - loss: 13.8339 - accuracy: 0.5495\n",
            "Epoch 10/100\n",
            "12/12 [==============================] - 0s 3ms/step - loss: 9.5255 - accuracy: 0.6667\n",
            "Epoch 11/100\n",
            "12/12 [==============================] - 0s 3ms/step - loss: 10.8889 - accuracy: 0.5911\n",
            "Epoch 12/100\n",
            "12/12 [==============================] - 0s 4ms/step - loss: 9.8096 - accuracy: 0.5964\n",
            "Epoch 13/100\n",
            "12/12 [==============================] - 0s 3ms/step - loss: 4.5266 - accuracy: 0.6224\n",
            "Epoch 14/100\n",
            "12/12 [==============================] - 0s 4ms/step - loss: 4.8929 - accuracy: 0.6432\n",
            "Epoch 15/100\n",
            "12/12 [==============================] - 0s 3ms/step - loss: 10.5077 - accuracy: 0.6510\n",
            "Epoch 16/100\n",
            "12/12 [==============================] - 0s 3ms/step - loss: 5.3235 - accuracy: 0.6823\n",
            "Epoch 17/100\n",
            "12/12 [==============================] - 0s 3ms/step - loss: 9.4932 - accuracy: 0.6172\n",
            "Epoch 18/100\n",
            "12/12 [==============================] - 0s 3ms/step - loss: 5.9805 - accuracy: 0.6589\n",
            "Epoch 19/100\n",
            "12/12 [==============================] - 0s 3ms/step - loss: 6.4392 - accuracy: 0.6198\n",
            "Epoch 20/100\n",
            "12/12 [==============================] - 0s 3ms/step - loss: 6.5051 - accuracy: 0.6302\n",
            "Epoch 21/100\n",
            "12/12 [==============================] - 0s 3ms/step - loss: 10.7921 - accuracy: 0.6250\n",
            "Epoch 22/100\n",
            "12/12 [==============================] - 0s 3ms/step - loss: 6.7606 - accuracy: 0.6068\n",
            "Epoch 23/100\n",
            "12/12 [==============================] - 0s 3ms/step - loss: 7.5032 - accuracy: 0.6484\n",
            "Epoch 24/100\n",
            "12/12 [==============================] - 0s 3ms/step - loss: 2.6220 - accuracy: 0.6641\n",
            "Epoch 25/100\n",
            "12/12 [==============================] - 0s 3ms/step - loss: 6.8580 - accuracy: 0.6562\n",
            "Epoch 26/100\n",
            "12/12 [==============================] - 0s 3ms/step - loss: 6.2066 - accuracy: 0.6589\n",
            "Epoch 27/100\n",
            "12/12 [==============================] - 0s 3ms/step - loss: 5.1178 - accuracy: 0.6536\n",
            "Epoch 28/100\n",
            "12/12 [==============================] - 0s 4ms/step - loss: 2.1720 - accuracy: 0.6432\n",
            "Epoch 29/100\n",
            "12/12 [==============================] - 0s 3ms/step - loss: 3.1479 - accuracy: 0.6615\n",
            "Epoch 30/100\n",
            "12/12 [==============================] - 0s 3ms/step - loss: 8.5204 - accuracy: 0.6302\n",
            "Epoch 31/100\n",
            "12/12 [==============================] - 0s 4ms/step - loss: 13.0267 - accuracy: 0.6068\n",
            "Epoch 32/100\n",
            "12/12 [==============================] - 0s 3ms/step - loss: 6.7181 - accuracy: 0.6458\n",
            "Epoch 33/100\n",
            "12/12 [==============================] - 0s 3ms/step - loss: 7.9475 - accuracy: 0.5964\n",
            "Epoch 34/100\n",
            "12/12 [==============================] - 0s 3ms/step - loss: 13.5091 - accuracy: 0.6484\n",
            "Epoch 35/100\n",
            "12/12 [==============================] - 0s 3ms/step - loss: 6.9066 - accuracy: 0.6693\n",
            "Epoch 36/100\n",
            "12/12 [==============================] - 0s 3ms/step - loss: 4.6623 - accuracy: 0.6198\n",
            "Epoch 37/100\n",
            "12/12 [==============================] - 0s 3ms/step - loss: 5.2003 - accuracy: 0.6458\n",
            "Epoch 38/100\n",
            "12/12 [==============================] - 0s 3ms/step - loss: 4.7820 - accuracy: 0.6562\n",
            "Epoch 39/100\n",
            "12/12 [==============================] - 0s 3ms/step - loss: 7.8577 - accuracy: 0.5911\n",
            "Epoch 40/100\n",
            "12/12 [==============================] - 0s 3ms/step - loss: 8.9875 - accuracy: 0.6536\n",
            "Epoch 41/100\n",
            "12/12 [==============================] - 0s 3ms/step - loss: 7.7927 - accuracy: 0.6302\n",
            "Epoch 42/100\n",
            "12/12 [==============================] - 0s 3ms/step - loss: 9.2543 - accuracy: 0.6042\n",
            "Epoch 43/100\n",
            "12/12 [==============================] - 0s 3ms/step - loss: 10.4012 - accuracy: 0.6615\n",
            "Epoch 44/100\n",
            "12/12 [==============================] - 0s 3ms/step - loss: 15.8292 - accuracy: 0.6172\n",
            "Epoch 45/100\n",
            "12/12 [==============================] - 0s 3ms/step - loss: 7.3264 - accuracy: 0.6432\n",
            "Epoch 46/100\n",
            "12/12 [==============================] - 0s 3ms/step - loss: 5.4040 - accuracy: 0.6198\n",
            "Epoch 47/100\n",
            "12/12 [==============================] - 0s 3ms/step - loss: 3.4242 - accuracy: 0.6745\n",
            "Epoch 48/100\n",
            "12/12 [==============================] - 0s 3ms/step - loss: 4.2117 - accuracy: 0.6771\n",
            "Epoch 49/100\n",
            "12/12 [==============================] - 0s 3ms/step - loss: 2.4436 - accuracy: 0.6562\n",
            "Epoch 50/100\n",
            "12/12 [==============================] - 0s 3ms/step - loss: 6.8464 - accuracy: 0.6276\n",
            "Epoch 51/100\n",
            "12/12 [==============================] - 0s 4ms/step - loss: 4.6479 - accuracy: 0.6354\n",
            "Epoch 52/100\n",
            "12/12 [==============================] - 0s 4ms/step - loss: 7.8812 - accuracy: 0.6432\n",
            "Epoch 53/100\n",
            "12/12 [==============================] - 0s 4ms/step - loss: 5.8161 - accuracy: 0.6224\n",
            "Epoch 54/100\n",
            "12/12 [==============================] - 0s 3ms/step - loss: 4.1681 - accuracy: 0.6875\n",
            "Epoch 55/100\n",
            "12/12 [==============================] - 0s 3ms/step - loss: 12.9132 - accuracy: 0.5990\n",
            "Epoch 56/100\n",
            "12/12 [==============================] - 0s 3ms/step - loss: 11.5639 - accuracy: 0.6250\n",
            "Epoch 57/100\n",
            "12/12 [==============================] - 0s 4ms/step - loss: 14.8110 - accuracy: 0.5859\n",
            "Epoch 58/100\n",
            "12/12 [==============================] - 0s 3ms/step - loss: 5.5906 - accuracy: 0.6484\n",
            "Epoch 59/100\n",
            "12/12 [==============================] - 0s 3ms/step - loss: 7.8784 - accuracy: 0.6068\n",
            "Epoch 60/100\n",
            "12/12 [==============================] - 0s 3ms/step - loss: 5.5228 - accuracy: 0.6406\n",
            "Epoch 61/100\n",
            "12/12 [==============================] - 0s 3ms/step - loss: 2.6743 - accuracy: 0.7057\n",
            "Epoch 62/100\n",
            "12/12 [==============================] - 0s 3ms/step - loss: 2.7802 - accuracy: 0.6589\n",
            "Epoch 63/100\n",
            "12/12 [==============================] - 0s 3ms/step - loss: 6.7919 - accuracy: 0.5885\n",
            "Epoch 64/100\n",
            "12/12 [==============================] - 0s 3ms/step - loss: 8.8883 - accuracy: 0.5911\n",
            "Epoch 65/100\n",
            "12/12 [==============================] - 0s 3ms/step - loss: 9.1182 - accuracy: 0.6745\n",
            "Epoch 66/100\n",
            "12/12 [==============================] - 0s 3ms/step - loss: 3.3434 - accuracy: 0.6302\n",
            "Epoch 67/100\n",
            "12/12 [==============================] - 0s 3ms/step - loss: 3.5947 - accuracy: 0.6641\n",
            "Epoch 68/100\n",
            "12/12 [==============================] - 0s 3ms/step - loss: 10.6416 - accuracy: 0.5990\n",
            "Epoch 69/100\n",
            "12/12 [==============================] - 0s 3ms/step - loss: 10.0235 - accuracy: 0.5964\n",
            "Epoch 70/100\n",
            "12/12 [==============================] - 0s 3ms/step - loss: 8.3712 - accuracy: 0.6484\n",
            "Epoch 71/100\n",
            "12/12 [==============================] - 0s 3ms/step - loss: 5.0320 - accuracy: 0.6354\n",
            "Epoch 72/100\n",
            "12/12 [==============================] - 0s 3ms/step - loss: 2.9388 - accuracy: 0.6250\n",
            "Epoch 73/100\n",
            "12/12 [==============================] - 0s 4ms/step - loss: 3.1713 - accuracy: 0.6823\n",
            "Epoch 74/100\n",
            "12/12 [==============================] - 0s 4ms/step - loss: 5.1948 - accuracy: 0.6562\n",
            "Epoch 75/100\n",
            "12/12 [==============================] - 0s 3ms/step - loss: 5.9444 - accuracy: 0.6094\n",
            "Epoch 76/100\n",
            "12/12 [==============================] - 0s 3ms/step - loss: 10.4662 - accuracy: 0.6562\n",
            "Epoch 77/100\n",
            "12/12 [==============================] - 0s 3ms/step - loss: 7.8747 - accuracy: 0.6120\n",
            "Epoch 78/100\n",
            "12/12 [==============================] - 0s 3ms/step - loss: 5.0387 - accuracy: 0.6771\n",
            "Epoch 79/100\n",
            "12/12 [==============================] - 0s 3ms/step - loss: 7.5497 - accuracy: 0.6146\n",
            "Epoch 80/100\n",
            "12/12 [==============================] - 0s 3ms/step - loss: 22.0944 - accuracy: 0.6094\n",
            "Epoch 81/100\n",
            "12/12 [==============================] - 0s 3ms/step - loss: 13.5315 - accuracy: 0.6380\n",
            "Epoch 82/100\n",
            "12/12 [==============================] - 0s 3ms/step - loss: 6.6307 - accuracy: 0.6146\n",
            "Epoch 83/100\n",
            "12/12 [==============================] - 0s 3ms/step - loss: 5.2018 - accuracy: 0.6276\n",
            "Epoch 84/100\n",
            "12/12 [==============================] - 0s 3ms/step - loss: 5.1081 - accuracy: 0.6641\n",
            "Epoch 85/100\n",
            "12/12 [==============================] - 0s 4ms/step - loss: 3.1820 - accuracy: 0.6615\n",
            "Epoch 86/100\n",
            "12/12 [==============================] - 0s 3ms/step - loss: 2.9017 - accuracy: 0.6797\n",
            "Epoch 87/100\n",
            "12/12 [==============================] - 0s 3ms/step - loss: 3.1545 - accuracy: 0.6979\n",
            "Epoch 88/100\n",
            "12/12 [==============================] - 0s 3ms/step - loss: 2.8390 - accuracy: 0.6406\n",
            "Epoch 89/100\n",
            "12/12 [==============================] - 0s 3ms/step - loss: 5.4743 - accuracy: 0.6484\n",
            "Epoch 90/100\n",
            "12/12 [==============================] - 0s 3ms/step - loss: 4.5382 - accuracy: 0.5911\n",
            "Epoch 91/100\n",
            "12/12 [==============================] - 0s 4ms/step - loss: 3.1512 - accuracy: 0.6458\n",
            "Epoch 92/100\n",
            "12/12 [==============================] - 0s 3ms/step - loss: 4.8551 - accuracy: 0.6432\n",
            "Epoch 93/100\n",
            "12/12 [==============================] - 0s 3ms/step - loss: 5.7417 - accuracy: 0.6458\n",
            "Epoch 94/100\n",
            "12/12 [==============================] - 0s 3ms/step - loss: 8.5422 - accuracy: 0.5964\n",
            "Epoch 95/100\n",
            "12/12 [==============================] - 0s 4ms/step - loss: 14.0854 - accuracy: 0.6432\n",
            "Epoch 96/100\n",
            "12/12 [==============================] - 0s 4ms/step - loss: 11.2425 - accuracy: 0.5625\n",
            "Epoch 97/100\n",
            "12/12 [==============================] - 0s 3ms/step - loss: 10.4594 - accuracy: 0.6120\n",
            "Epoch 98/100\n",
            "12/12 [==============================] - 0s 3ms/step - loss: 10.4857 - accuracy: 0.6875\n",
            "Epoch 99/100\n",
            "12/12 [==============================] - 0s 3ms/step - loss: 9.0367 - accuracy: 0.6328\n",
            "Epoch 100/100\n",
            "12/12 [==============================] - 0s 3ms/step - loss: 6.5136 - accuracy: 0.5859\n"
          ]
        },
        {
          "output_type": "execute_result",
          "data": {
            "text/plain": [
              "<keras.callbacks.History at 0x7f6546b15f10>"
            ]
          },
          "metadata": {},
          "execution_count": 36
        }
      ]
    },
    {
      "cell_type": "code",
      "source": [
        "y_pred=model.predict(x_test)"
      ],
      "metadata": {
        "id": "UdUwV3al8iiA",
        "colab": {
          "base_uri": "https://localhost:8080/"
        },
        "outputId": "b3f22b4d-a187-425a-a0ab-766d9ab41ba5"
      },
      "execution_count": null,
      "outputs": [
        {
          "output_type": "stream",
          "name": "stdout",
          "text": [
            "12/12 [==============================] - 0s 3ms/step\n"
          ]
        }
      ]
    },
    {
      "cell_type": "code",
      "source": [
        "from sklearn.metrics import confusion_matrix\n",
        "con_matrix=confusion_matrix(y_test.argmax(axis=1),y_pred.argmax(axis=1))\n",
        "con_matrix"
      ],
      "metadata": {
        "colab": {
          "base_uri": "https://localhost:8080/"
        },
        "id": "12iEJQve99Qo",
        "outputId": "fbec9bc3-c318-489b-ff51-c254a4c95778"
      },
      "execution_count": null,
      "outputs": [
        {
          "output_type": "execute_result",
          "data": {
            "text/plain": [
              "array([[  7, 102],\n",
              "       [  1, 274]])"
            ]
          },
          "metadata": {},
          "execution_count": 38
        }
      ]
    },
    {
      "cell_type": "code",
      "source": [
        "from sklearn.metrics import accuracy_score\n",
        "print(\"Testing Accuracy\",accuracy_score(y_test.argmax(axis=1),y_pred.argmax(axis=1)))"
      ],
      "metadata": {
        "colab": {
          "base_uri": "https://localhost:8080/"
        },
        "id": "iNN2vppi-A3L",
        "outputId": "5b652c8b-8f61-42f0-fb9f-7aaf9f22297d"
      },
      "execution_count": null,
      "outputs": [
        {
          "output_type": "stream",
          "name": "stdout",
          "text": [
            "Testing Accuracy 0.7317708333333334\n"
          ]
        }
      ]
    },
    {
      "cell_type": "code",
      "source": [
        "l1=[]\n",
        "for i in range(len(con_matrix)):\n",
        "  for j in range(len(con_matrix)):\n",
        "    l1.append(con_matrix[i][j])\n",
        "print(l1)"
      ],
      "metadata": {
        "colab": {
          "base_uri": "https://localhost:8080/"
        },
        "id": "Fk3h4DqEdcQg",
        "outputId": "1c08a497-8b17-4610-9526-e0890cce1fec"
      },
      "execution_count": null,
      "outputs": [
        {
          "output_type": "stream",
          "name": "stdout",
          "text": [
            "[7, 102, 1, 274]\n"
          ]
        }
      ]
    },
    {
      "cell_type": "code",
      "source": [
        "b=1\n",
        "tp=0\n",
        "fp=0\n",
        "fn=0\n",
        "tn=0\n",
        "for i in l1:\n",
        "  if(b==1):\n",
        "    tp=i\n",
        "  elif(b==2):\n",
        "    fp=i\n",
        "  elif(b==3):\n",
        "    fn=i\n",
        "  else:\n",
        "    tn=i\n",
        "  b=b+1\n",
        "print(tp)\n",
        "print(fp)\n",
        "print(fn)\n",
        "print(tn)"
      ],
      "metadata": {
        "colab": {
          "base_uri": "https://localhost:8080/"
        },
        "id": "GAv-b2n2dnqc",
        "outputId": "589e3b86-7ab4-4e1f-b3c9-4fce94181338"
      },
      "execution_count": null,
      "outputs": [
        {
          "output_type": "stream",
          "name": "stdout",
          "text": [
            "7\n",
            "102\n",
            "1\n",
            "274\n"
          ]
        }
      ]
    },
    {
      "cell_type": "code",
      "source": [
        "tot=tp+fp+fn+tn\n",
        "accuracy=(tp+tn)/tot\n",
        "print(accuracy)"
      ],
      "metadata": {
        "colab": {
          "base_uri": "https://localhost:8080/"
        },
        "id": "GmbGQlVSdqU_",
        "outputId": "48021361-7502-44ec-c94d-02ce1f1b8c92"
      },
      "execution_count": null,
      "outputs": [
        {
          "output_type": "stream",
          "name": "stdout",
          "text": [
            "0.7317708333333334\n"
          ]
        }
      ]
    },
    {
      "cell_type": "code",
      "source": [
        "recall=tp/(tp+fn)\n",
        "print(recall)"
      ],
      "metadata": {
        "colab": {
          "base_uri": "https://localhost:8080/"
        },
        "id": "7Aewhws4ePrh",
        "outputId": "84e25533-f38a-4b48-d2b2-7e7f4d705899"
      },
      "execution_count": null,
      "outputs": [
        {
          "output_type": "stream",
          "name": "stdout",
          "text": [
            "0.875\n"
          ]
        }
      ]
    },
    {
      "cell_type": "code",
      "source": [
        "import matplotlib.pyplot as plt\n",
        "%matplotlib inline\n",
        "plt.rcParams.update({'figure.figsize':(2,3),'figure.dpi':100})\n",
        "Xplot=[\"ANN\"]\n",
        "Yplot=[73]\n",
        "plt.xlabel(\"Algorithm\")\n",
        "plt.ylabel(\"Accuracy Score\")\n",
        "plt.bar(Xplot,Yplot)\n",
        "plt.show()"
      ],
      "metadata": {
        "colab": {
          "base_uri": "https://localhost:8080/",
          "height": 311
        },
        "id": "Ddy08Qukx3dJ",
        "outputId": "cb982dc5-2a8f-4b8c-e6db-22ecefe4d474"
      },
      "execution_count": null,
      "outputs": [
        {
          "output_type": "display_data",
          "data": {
            "text/plain": [
              "<Figure size 200x300 with 1 Axes>"
            ],
            "image/png": "[encoded data removed]"
          },
          "metadata": {}
        }
      ]
    },
    {
      "cell_type": "code",
      "source": [
        "import matplotlib.pyplot as plt\n",
        "%matplotlib inline\n",
        "plt.rcParams.update({'figure.figsize':(2,3),'figure.dpi':100})\n",
        "Xplot=[\"ANN\"]\n",
        "Yplot=[87]\n",
        "plt.xlabel(\"Algorithm\")\n",
        "plt.ylabel(\"Recall\")\n",
        "plt.bar(Xplot,Yplot)\n",
        "plt.show()"
      ],
      "metadata": {
        "colab": {
          "base_uri": "https://localhost:8080/",
          "height": 311
        },
        "id": "bBCM8BPNx-sm",
        "outputId": "8302dc4b-353b-4beb-ebeb-1db0b9de825f"
      },
      "execution_count": null,
      "outputs": [
        {
          "output_type": "display_data",
          "data": {
            "text/plain": [
              "<Figure size 200x300 with 1 Axes>"
            ],
            "image/png": "[encoded data removed]"
          },
          "metadata": {}
        }
      ]
    }
  ]
}